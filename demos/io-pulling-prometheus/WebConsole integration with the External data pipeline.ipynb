{
 "cells": [
  {
   "cell_type": "markdown",
   "metadata": {
    "slideshow": {
     "slide_type": "slide"
    }
   },
   "source": [
    "# Implementation health check expose via Prometheus metrics into Insights Operator\n",
    "\n",
    "## User story\n",
    "\n",
    "As a developer I'd need to know how to expose any data in Prometheus format from Insights Operator, so I'll be able to expose health check results later.\n",
    "\n",
    "## About the task\n",
    "\n",
    "This task is basically about having a PoC how to expose health check data via Prometheus metrics. Then we will be able to decide how the metrics should look like.\n",
    "\n",
    "\n",
    "## Acceptance criteria:\n",
    "\n",
    "- PoC with very mocked health results exposed as Prometheus metric\n",
    "- Demo presented on CCX Demo meeting\n",
    "\n",
    "## JIRA issue:\n",
    "https://projects.engineering.redhat.com/browse/CCXDEV-2179"
   ]
  },
  {
   "cell_type": "markdown",
   "metadata": {
    "slideshow": {
     "slide_type": "slide"
    }
   },
   "source": [
    "## Insights integration with Web Console\n",
    "(one possible solution, other is based on CRD)"
   ]
  },
  {
   "cell_type": "markdown",
   "metadata": {
    "slideshow": {
     "slide_type": "subslide"
    }
   },
   "source": [
    "![Web console integration](./web_console_anim.gif)"
   ]
  },
  {
   "cell_type": "markdown",
   "metadata": {
    "slideshow": {
     "slide_type": "slide"
    }
   },
   "source": [
    "## Why to expose metrics consumed by Web console?"
   ]
  },
  {
   "cell_type": "markdown",
   "metadata": {
    "slideshow": {
     "slide_type": "subslide"
    }
   },
   "source": [
    "Insights messages and status can be displayed on Overview page"
   ]
  },
  {
   "cell_type": "markdown",
   "metadata": {
    "slideshow": {
     "slide_type": "subslide"
    }
   },
   "source": [
    "![title](./web_console_01.png)"
   ]
  },
  {
   "cell_type": "markdown",
   "metadata": {
    "slideshow": {
     "slide_type": "slide"
    }
   },
   "source": [
    "It will be also possible to display more detailed information about cluster status"
   ]
  },
  {
   "cell_type": "markdown",
   "metadata": {
    "slideshow": {
     "slide_type": "subslide"
    }
   },
   "source": [
    "![title](./web_console_02.png)"
   ]
  },
  {
   "cell_type": "markdown",
   "metadata": {
    "slideshow": {
     "slide_type": "subslide"
    }
   },
   "source": [
    "![title](./web_console_03.png)"
   ]
  },
  {
   "cell_type": "markdown",
   "metadata": {
    "slideshow": {
     "slide_type": "slide"
    }
   },
   "source": [
    "### So the IO sends data to External data pipeline and we need to fetch the results back to IO?"
   ]
  },
  {
   "cell_type": "markdown",
   "metadata": {
    "slideshow": {
     "slide_type": "slide"
    }
   },
   "source": [
    "![endless-loop](./endless_loop.jpg)"
   ]
  },
  {
   "cell_type": "markdown",
   "metadata": {
    "slideshow": {
     "slide_type": "slide"
    }
   },
   "source": [
    "## The whole workflow"
   ]
  },
  {
   "cell_type": "markdown",
   "metadata": {
    "slideshow": {
     "slide_type": "subslide"
    }
   },
   "source": [
    "![title](./io-pulling-prometheus-anim.gif)"
   ]
  },
  {
   "cell_type": "markdown",
   "metadata": {
    "slideshow": {
     "slide_type": "slide"
    }
   },
   "source": [
    "## IO already has some Prometheus metrics!\n",
    "\n",
    "-> easier solution, almost oneliner\n",
    "\n",
    "## An implementation of new metric to be produced by IO"
   ]
  },
  {
   "cell_type": "markdown",
   "metadata": {
    "slideshow": {
     "slide_type": "subslide"
    }
   },
   "source": [
    "![title](./pr.png)"
   ]
  },
  {
   "cell_type": "markdown",
   "metadata": {
    "slideshow": {
     "slide_type": "slide"
    }
   },
   "source": [
    "## Let's patch IO and start it against some cluster"
   ]
  },
  {
   "cell_type": "markdown",
   "metadata": {
    "slideshow": {
     "slide_type": "subslide"
    }
   },
   "source": [
    "```\n",
    "W0714 16:44:33.132520   10855 cmd.go:195] Using insecure, self-signed certificates\n",
    "I0714 16:44:33.585740   10855 observer_polling.go:155] Starting file observer\n",
    "W0714 16:44:33.586285   10855 builder.go:170] unable to identify the current namespace for events: open /var/run/secrets/kubernetes.io/serviceaccount/namespace: no such file or directory\n",
    "W0714 16:44:34.137275   10855 builder.go:174] unable to get owner reference (falling back to namespace): unable to setup event recorder as \"POD_NAME\" env variable is not set and there are no pods\n",
    "W0714 16:44:34.378811   10855 configmap_cafile_content.go:102] unable to load initial CA bundle for: \"client-ca::kube-system::extension-apiserver-authentication::client-ca-file\" due to: configmap \"extension-apiserver-authentication\" not found\n",
    "W0714 16:44:34.378906   10855 configmap_cafile_content.go:102] unable to load initial CA bundle for: \"client-ca::kube-system::extension-apiserver-authentication::requestheader-client-ca-file\" due to: configmap \"extension-apiserver-authentication\" not found\n",
    "I0714 16:44:34.737810   10855 operator.go:57] Starting insights-operator v0.0.0-master+$Format:%h$\n",
    "I0714 16:44:34.738716   10855 configmap_cafile_content.go:205] Starting client-ca::kube-system::extension-apiserver-authentication::requestheader-client-ca-file\n",
    "I0714 16:44:34.738733   10855 configmap_cafile_content.go:205] Starting client-ca::kube-system::extension-apiserver-authentication::client-ca-file\n",
    "I0714 16:44:34.738749   10855 shared_informer.go:197] Waiting for caches to sync for client-ca::kube-system::extension-apiserver-authentication::requestheader-client-ca-file\n",
    "I0714 16:44:34.738762   10855 shared_informer.go:197] Waiting for caches to sync for client-ca::kube-system::extension-apiserver-authentication::client-ca-file\n",
    "I0714 16:44:34.739307   10855 dynamic_serving_content.go:129] Starting serving-cert::/tmp/ramdisk/serving-cert-899292214/tls.crt::/tmp/ramdisk/serving-cert-899292214/tls.key\n",
    "I0714 16:44:34.739961   10855 secure_serving.go:178] Serving securely on [::]:8443\n",
    "I0714 16:44:34.740007   10855 tlsconfig.go:219] Starting DynamicServingCertificateController\n",
    "I0714 16:44:34.938924   10855 shared_informer.go:204] Caches are synced for client-ca::kube-system::extension-apiserver-authentication::requestheader-client-ca-file\n",
    "I0714 16:44:35.077870   10855 periodic.go:113] Gathering cluster info every 30s\n",
    "I0714 16:44:35.138981   10855 shared_informer.go:204] Caches are synced for client-ca::kube-system::extension-apiserver-authentication::client-ca-file\n",
    "E0714 16:44:35.238659   10855 clusterconfig.go:139] Unable to retrieve most recent metrics: Get https://prometheus-k8s.openshift-monitoring.svc:9091/federate?match%5B%5D=ALERTS&match%5B%5D=etcd_object_counts&match%5B%5D=cluster_installer&match%5B%5D=namespace%3Acontainer_cpu_usage_seconds_total%3Asum_rate&match%5B%5D=namespace%3Acontainer_memory_usage_bytes%3Asum: dial tcp: lookup prometheus-k8s.openshift-monitoring.svc on 127.0.0.1:53: no such host\n",
    "I0714 16:44:35.246845   10855 status.go:388] The initial operator extension status is healthy\n",
    "I0714 16:44:35.246863   10855 status.go:413] It is safe to use fast upload\n",
    "```"
   ]
  },
  {
   "cell_type": "markdown",
   "metadata": {
    "slideshow": {
     "slide_type": "slide"
    }
   },
   "source": [
    "## And now let's retrieve some metrics\n",
    "```\n",
    "curl --cert k8s.crt --key k8s.key -vs -k https://localhost:8443/metrics | grep insights \n",
    "```"
   ]
  },
  {
   "cell_type": "markdown",
   "metadata": {
    "slideshow": {
     "slide_type": "subslide"
    }
   },
   "source": [
    "Seems like it works correctly:\n",
    "\n",
    "```\n",
    "# HELP health_statuses_insights [ALPHA] Foobar.\n",
    "# TYPE health_statuses_insights gauge\n",
    "health_statuses_insights{metric=\"connected\"} 1\n",
    "health_statuses_insights{metric=\"critical\"} 1\n",
    "health_statuses_insights{metric=\"important\"} 5\n",
    "health_statuses_insights{metric=\"low\"} 3\n",
    "health_statuses_insights{metric=\"moderate\"} 3\n",
    "health_statuses_insights{metric=\"total\"} 12\n",
    "```"
   ]
  },
  {
   "cell_type": "markdown",
   "metadata": {
    "slideshow": {
     "slide_type": "slide"
    }
   },
   "source": [
    "(finito)"
   ]
  },
  {
   "cell_type": "markdown",
   "metadata": {
    "slideshow": {
     "slide_type": "slide"
    }
   },
   "source": [
    "## By-product"
   ]
  },
  {
   "cell_type": "code",
   "execution_count": null,
   "metadata": {
    "slideshow": {
     "slide_type": "subslide"
    }
   },
   "outputs": [],
   "source": [
    "#!/usr/bin/env python3\n",
    "\n",
    "\"\"\"Script to generate certificate and user key from provided Kubernetes configuration file.\n",
    "\n",
    "Generated files k8s.crt and k8s.key might be used to access Insights Operator\n",
    "REST API endpoints and Prometheus metrics as well.\n",
    "\"\"\"\n",
    "\n",
    "# Copyright © 2020 Red Hat\n",
    "#\n",
    "# Licensed under the Apache License, Version 2.0 (the \"License\");\n",
    "# you may not use this file except in compliance with the License.\n",
    "# You may obtain a copy of the License at\n",
    "#\n",
    "#     http://www.apache.org/licenses/LICENSE-2.0\n",
    "#\n",
    "# Unless required by applicable law or agreed to in writing, software\n",
    "# distributed under the License is distributed on an \"AS IS\" BASIS,\n",
    "# WITHOUT WARRANTIES OR CONDITIONS OF ANY KIND, either express or implied.\n",
    "# See the License for the specific language governing permissions and\n",
    "# limitations under the License.\n",
    "\n",
    "import yaml\n",
    "import base64\n",
    "import sys\n",
    "\n",
    "\n",
    "def get_data_for_user(payload, user_name):\n",
    "    \"\"\"\n",
    "    Try to retrieve data for given user.\n",
    "\n",
    "    KeyError will be raised in case of improper payload format.\n",
    "    \"\"\"\n",
    "    users = payload[\"users\"]\n",
    "    for user_data in users:\n",
    "        if \"name\" in user_data and user_data[\"name\"] == user_name:\n",
    "            return user_data\n",
    "\n",
    "\n",
    "def get_value_assigned_to_user(user_data, key):\n",
    "    \"\"\"\n",
    "    Try to retrieve (attribute) value assigned to an user.\n",
    "\n",
    "    In practise it will be certificate or key. KeyError will be raised in case\n",
    "    of improper payload format or when the attribute for given key does not\n",
    "    exist.\n",
    "    \"\"\"\n",
    "    d = user_data[\"user\"]\n",
    "    return d[key]\n",
    "\n",
    "\n",
    "def decode(b64):\n",
    "    \"\"\"\n",
    "    Decode given attribute encoded by using Base64 encoding.\n",
    "\n",
    "    The result is returned as regular Python string. Note that TypeError might\n",
    "    be thrown when the input data are not encoded properly.\n",
    "    \"\"\"\n",
    "    barray = base64.b64decode(b64)\n",
    "    return barray.decode('ascii')\n",
    "\n",
    "\n",
    "def generate_cert_and_key_files(input_file):\n",
    "    \"\"\"Generate file with certificate and user key from k8s configuration file.\"\"\"\n",
    "    with open(input_file) as f:\n",
    "        payload = yaml.load(f)\n",
    "        if payload is not None:\n",
    "            user_data = get_data_for_user(payload, \"admin\")\n",
    "            encoded_certificate = get_value_assigned_to_user(user_data, \"client-certificate-data\")\n",
    "            encoded_key = get_value_assigned_to_user(user_data, \"client-key-data\")\n",
    "            decoded_certificate = decode(encoded_certificate)\n",
    "            decoded_key = decode(encoded_key)\n",
    "            with open(\"k8s.crt\", \"w\") as cert:\n",
    "                cert.write(decoded_certificate)\n",
    "            with open(\"k8s.key\", \"w\") as cert:\n",
    "                cert.write(decoded_key)\n",
    "\n",
    "\n",
    "def main():\n",
    "    \"\"\"Entry point to this script.\"\"\"\n",
    "    if len(sys.argv) <= 1:\n",
    "        print(\"Usage: gen_cert_file.py kubeconfig.yaml\")\n",
    "        sys.exit(1)\n",
    "    generate_cert_and_key_files(sys.argv[1])\n",
    "\n",
    "\n",
    "# Common Python's black magic\n",
    "if __name__ == \"__main__\":\n",
    "    main()"
   ]
  }
 ],
 "metadata": {
  "celltoolbar": "Slideshow",
  "kernelspec": {
   "display_name": "Python 3",
   "language": "python",
   "name": "python3"
  },
  "language_info": {
   "codemirror_mode": {
    "name": "ipython",
    "version": 3
   },
   "file_extension": ".py",
   "mimetype": "text/x-python",
   "name": "python",
   "nbconvert_exporter": "python",
   "pygments_lexer": "ipython3",
   "version": "3.6.6"
  }
 },
 "nbformat": 4,
 "nbformat_minor": 2
}
